{
 "cells": [
  {
   "cell_type": "code",
   "execution_count": 22,
   "metadata": {},
   "outputs": [],
   "source": [
    "import pandas as pd\n",
    "from bs4 import BeautifulSoup\n",
    "import requests\n",
    "import selenium\n",
    "from selenium import webdriver\n",
    "import time"
   ]
  },
  {
   "cell_type": "code",
   "execution_count": 23,
   "metadata": {},
   "outputs": [],
   "source": [
    "driver=webdriver.Chrome(\"Desktop/chromedriver.exe\")"
   ]
  },
  {
   "cell_type": "code",
   "execution_count": 24,
   "metadata": {},
   "outputs": [],
   "source": [
    "driver.get(\"https://www.flipkart.com/\")"
   ]
  },
  {
   "cell_type": "code",
   "execution_count": 25,
   "metadata": {},
   "outputs": [],
   "source": [
    "search_phone=driver.find_element_by_xpath(\"//*[@id='container']/div/div[1]/div[1]/div[2]/div[2]/form/div/div/input\")\n",
    "search_phone.send_keys(\"smartphone\")"
   ]
  },
  {
   "cell_type": "code",
   "execution_count": 26,
   "metadata": {},
   "outputs": [],
   "source": [
    "search_btn=driver.find_element_by_xpath(\"//*[@id='container']/div/div[1]/div[1]/div[2]/div[2]/form/div/button\")\n",
    "search_btn.click()"
   ]
  },
  {
   "cell_type": "code",
   "execution_count": 27,
   "metadata": {},
   "outputs": [],
   "source": [
    "Brand_name=[]\n",
    "Smartphone_name_colour_RAM=[]\n",
    "RAM=[]\n",
    "ROM=[]\n",
    "Display_Size=[]\n",
    "Display_resolution=[]\n",
    "Primary_Camera=[]\n",
    "Secondary_Camera=[]\n",
    "Processor_Cores=[]\n",
    "Battery_Capacity=[] \n",
    "Price=[]\n",
    "Product_URL=[]"
   ]
  },
  {
   "cell_type": "code",
   "execution_count": 28,
   "metadata": {},
   "outputs": [
    {
     "data": {
      "text/plain": [
       "['POCO ',\n",
       " 'Realm',\n",
       " 'Realm',\n",
       " 'Samsu',\n",
       " 'POCO ',\n",
       " 'POCO ',\n",
       " 'POCO ',\n",
       " 'POCO ',\n",
       " 'Redmi']"
      ]
     },
     "execution_count": 28,
     "metadata": {},
     "output_type": "execute_result"
    }
   ],
   "source": [
    "brand_tag=driver.find_elements_by_xpath(\"//div[@class='_4rR01T']\")\n",
    "for i in brand_tag:\n",
    "    Brand_name.append(i.text[0:5])\n",
    "Brand_name[0:9]"
   ]
  },
  {
   "cell_type": "code",
   "execution_count": 29,
   "metadata": {},
   "outputs": [
    {
     "data": {
      "text/plain": [
       "['POCO C3 (Lime Green, 32 GB)',\n",
       " 'Realme C11 (Rich Grey, 32 GB)',\n",
       " 'Realme C11 (Rich Green, 32 GB)',\n",
       " 'Samsung Galaxy F62 (Laser Grey, 128 GB)',\n",
       " 'POCO C3 (Arctic Blue, 32 GB)',\n",
       " 'POCO C3 (Matte Black, 32 GB)',\n",
       " 'POCO M3 (Cool Blue, 64 GB)',\n",
       " 'POCO C3 (Lime Green, 64 GB)',\n",
       " 'Redmi 9i (Sea Blue, 64 GB)']"
      ]
     },
     "execution_count": 29,
     "metadata": {},
     "output_type": "execute_result"
    }
   ],
   "source": [
    "smartphone_tag=driver.find_elements_by_xpath(\"//div[@class='_4rR01T']\")\n",
    "for i in smartphone_tag:\n",
    "    Smartphone_name_colour_RAM.append(i.text)\n",
    "Smartphone_name_colour_RAM[0:9]"
   ]
  },
  {
   "cell_type": "code",
   "execution_count": 32,
   "metadata": {},
   "outputs": [
    {
     "data": {
      "text/plain": [
       "['3 GB RAM',\n",
       " '2 GB RAM',\n",
       " '2 GB RAM',\n",
       " '6 GB RAM',\n",
       " '3 GB RAM',\n",
       " '3 GB RAM',\n",
       " '6 GB RAM',\n",
       " '4 GB RAM',\n",
       " '4 GB RAM']"
      ]
     },
     "execution_count": 32,
     "metadata": {},
     "output_type": "execute_result"
    }
   ],
   "source": [
    "titles_tag=driver.find_elements_by_xpath(\"//ul[@class='_1xgFaf']/li[1]\")\n",
    "for i in titles_tag:\n",
    "    RAM.append(i.text[0:8])\n",
    "RAM[0:9]"
   ]
  },
  {
   "cell_type": "code",
   "execution_count": 33,
   "metadata": {},
   "outputs": [
    {
     "data": {
      "text/plain": [
       "[' (6.53 inc',\n",
       " ' (6.5 inch',\n",
       " ' (6.5 inch',\n",
       " ' (6.7 inch',\n",
       " ' (6.53 inc',\n",
       " ' (6.53 inc',\n",
       " ' (6.53 inc',\n",
       " ' (6.53 inc',\n",
       " ' (6.53 inc']"
      ]
     },
     "execution_count": 33,
     "metadata": {},
     "output_type": "execute_result"
    }
   ],
   "source": [
    "ROM_tag=driver.find_elements_by_xpath(\"//ul[@class='_1xgFaf']/li[2]\")\n",
    "for i in ROM_tag:\n",
    "    ROM.append(i.text[8:18])\n",
    "ROM[0:9]"
   ]
  },
  {
   "cell_type": "code",
   "execution_count": 34,
   "metadata": {},
   "outputs": [
    {
     "data": {
      "text/plain": [
       "['16.59 cm',\n",
       " '16.51 cm',\n",
       " '16.51 cm',\n",
       " '17.02 cm',\n",
       " '16.59 cm',\n",
       " '16.59 cm',\n",
       " '16.59 cm',\n",
       " '16.59 cm',\n",
       " '16.59 cm']"
      ]
     },
     "execution_count": 34,
     "metadata": {},
     "output_type": "execute_result"
    }
   ],
   "source": [
    "display_tag=driver.find_elements_by_xpath(\"//ul[@class='_1xgFaf']/li[2]\")\n",
    "for i in display_tag:\n",
    "    Display_Size.append(i.text[0:8])\n",
    "Display_Size[0:9]"
   ]
  },
  {
   "cell_type": "code",
   "execution_count": 35,
   "metadata": {},
   "outputs": [
    {
     "data": {
      "text/plain": [
       "[' HD+ Displa',\n",
       " ' HD+ Displa',\n",
       " ' HD+ Displa',\n",
       " ' HD+ Displa',\n",
       " ' HD+ Displa',\n",
       " ' HD+ Displa',\n",
       " ' HD+ Displa',\n",
       " ' HD+ Displa',\n",
       " ' HD+ Displa']"
      ]
     },
     "execution_count": 35,
     "metadata": {},
     "output_type": "execute_result"
    }
   ],
   "source": [
    "displayre_tag=driver.find_elements_by_xpath(\"//ul[@class='_1xgFaf']/li[2]\")\n",
    "for i in displayre_tag:\n",
    "    Display_resolution.append(i.text[-12:-1])\n",
    "Display_resolution[0:9]"
   ]
  },
  {
   "cell_type": "code",
   "execution_count": 36,
   "metadata": {},
   "outputs": [
    {
     "data": {
      "text/plain": [
       "['13MP + 2MP + 2MP |',\n",
       " '13MP + 2MP | 5MP F',\n",
       " '13MP + 2MP | 5MP F',\n",
       " '64MP + 12MP + 5MP ',\n",
       " '13MP + 2MP + 2MP |',\n",
       " '13MP + 2MP + 2MP |',\n",
       " '48MP + 2MP + 2MP |',\n",
       " '13MP + 2MP + 2MP |',\n",
       " '13MP Rear Camera |']"
      ]
     },
     "execution_count": 36,
     "metadata": {},
     "output_type": "execute_result"
    }
   ],
   "source": [
    "primary_tag=driver.find_elements_by_xpath(\"//ul[@class='_1xgFaf']/li[3]\")\n",
    "for i in primary_tag:\n",
    "    Primary_Camera.append(i.text[0:18])\n",
    "Primary_Camera[0:9]"
   ]
  },
  {
   "cell_type": "code",
   "execution_count": 38,
   "metadata": {},
   "outputs": [
    {
     "data": {
      "text/plain": [
       "[' Front Camer',\n",
       " ' Camera',\n",
       " ' Camera',\n",
       " 'P | 32MP Fro',\n",
       " ' Front Camer',\n",
       " ' Front Camer',\n",
       " ' Front Camer',\n",
       " ' Front Camer',\n",
       " ' Front Camer']"
      ]
     },
     "execution_count": 38,
     "metadata": {},
     "output_type": "execute_result"
    }
   ],
   "source": [
    "secondary_tag=driver.find_elements_by_xpath(\"//ul[@class='_1xgFaf']/li[3]\")\n",
    "for i in secondary_tag:\n",
    "    Secondary_Camera.append(i.text[14:34])\n",
    "Secondary_Camera[0:9]"
   ]
  },
  {
   "cell_type": "code",
   "execution_count": 39,
   "metadata": {},
   "outputs": [
    {
     "data": {
      "text/plain": [
       "['Mediatek Helio G35 Processor',\n",
       " 'Mediatek Helio G35 Processor',\n",
       " 'Mediatek Helio G35 Processor',\n",
       " 'Exynos 9825 Processor',\n",
       " 'Mediatek Helio G35 Processor',\n",
       " 'Mediatek Helio G35 Processor',\n",
       " 'Qualcomm Snapdragon 662 Processor',\n",
       " 'Mediatek Helio G35 Processor',\n",
       " 'MediaTek Helio G25 Processor']"
      ]
     },
     "execution_count": 39,
     "metadata": {},
     "output_type": "execute_result"
    }
   ],
   "source": [
    "processor_tag=driver.find_elements_by_xpath(\"//ul[@class='_1xgFaf']/li[5]\")\n",
    "for i in processor_tag:\n",
    "    Processor_Cores.append(i.text)\n",
    "Processor_Cores[0:9]"
   ]
  },
  {
   "cell_type": "code",
   "execution_count": 40,
   "metadata": {},
   "outputs": [
    {
     "data": {
      "text/plain": [
       "['5000 mAh Li-ion Polymer Battery',\n",
       " '5000 mAh Battery',\n",
       " '5000 mAh Battery',\n",
       " '7000 mAh Lithium-ion Battery',\n",
       " '5000 mAh Li-ion Polymer Battery',\n",
       " '5000 mAh Li-ion Polymer Battery',\n",
       " '6000 mAh Lithium-ion Polymer Battery',\n",
       " '5000 mAh Li-ion Polymer Battery',\n",
       " '5000 mAh Lithium Polymer Battery']"
      ]
     },
     "execution_count": 40,
     "metadata": {},
     "output_type": "execute_result"
    }
   ],
   "source": [
    "battery_tag=driver.find_elements_by_xpath(\"//ul[@class='_1xgFaf']/li[4]\")\n",
    "for i in battery_tag:\n",
    "    Battery_Capacity.append(i.text)\n",
    "Battery_Capacity[0:9]"
   ]
  },
  {
   "cell_type": "code",
   "execution_count": 41,
   "metadata": {},
   "outputs": [
    {
     "data": {
      "text/plain": [
       "['₹6,999',\n",
       " '₹6,999',\n",
       " '₹6,999',\n",
       " '₹23,999',\n",
       " '₹6,999',\n",
       " '₹6,999',\n",
       " '₹10,999',\n",
       " '₹7,999',\n",
       " '₹7,999']"
      ]
     },
     "execution_count": 41,
     "metadata": {},
     "output_type": "execute_result"
    }
   ],
   "source": [
    "price_tag=driver.find_elements_by_xpath(\"//div[@class='_30jeq3 _1_WHN1']\")\n",
    "for i in price_tag:\n",
    "    Price.append(i.text)\n",
    "Price[0:9]"
   ]
  },
  {
   "cell_type": "code",
   "execution_count": 42,
   "metadata": {},
   "outputs": [
    {
     "name": "stdout",
     "output_type": "stream",
     "text": [
      "['https://www.flipkart.com/poco-c3-lime-green-32-gb/p/itmdbc41b273ff7c?pid=MOBFVQJ5RMHGCWHF&lid=LSTMOBFVQJ5RMHGCWHFQV9OOD&marketplace=FLIPKART&srno=s_1_1&otracker=search&otracker1=search&fm=SEARCH&iid=2d825ae3-9b2b-42c7-9808-d4fc2f5bb5d6.MOBFVQJ5RMHGCWHF.SEARCH&ppt=hp&ppn=homepage&ssid=uexmbf09wg0000001614442031147&qH=1036ba3c4ed2c021', 'https://www.flipkart.com/poco-c3-lime-green-32-gb/p/itmdbc41b273ff7c?pid=MOBFVQJ5RMHGCWHF&lid=LSTMOBFVQJ5RMHGCWHFQV9OOD&marketplace=FLIPKART&srno=s_1_1&otracker=search&otracker1=search&fm=SEARCH&iid=2d825ae3-9b2b-42c7-9808-d4fc2f5bb5d6.MOBFVQJ5RMHGCWHF.SEARCH&ppt=hp&ppn=homepage&ssid=uexmbf09wg0000001614442031147&qH=1036ba3c4ed2c021', 'https://www.flipkart.com/poco-c3-lime-green-32-gb/p/itmdbc41b273ff7c?pid=MOBFVQJ5RMHGCWHF&lid=LSTMOBFVQJ5RMHGCWHFQV9OOD&marketplace=FLIPKART&srno=s_1_1&otracker=search&otracker1=search&fm=SEARCH&iid=2d825ae3-9b2b-42c7-9808-d4fc2f5bb5d6.MOBFVQJ5RMHGCWHF.SEARCH&ppt=hp&ppn=homepage&ssid=uexmbf09wg0000001614442031147&qH=1036ba3c4ed2c021', 'https://www.flipkart.com/poco-c3-lime-green-32-gb/p/itmdbc41b273ff7c?pid=MOBFVQJ5RMHGCWHF&lid=LSTMOBFVQJ5RMHGCWHFQV9OOD&marketplace=FLIPKART&srno=s_1_1&otracker=search&otracker1=search&fm=SEARCH&iid=2d825ae3-9b2b-42c7-9808-d4fc2f5bb5d6.MOBFVQJ5RMHGCWHF.SEARCH&ppt=hp&ppn=homepage&ssid=uexmbf09wg0000001614442031147&qH=1036ba3c4ed2c021', 'https://www.flipkart.com/poco-c3-lime-green-32-gb/p/itmdbc41b273ff7c?pid=MOBFVQJ5RMHGCWHF&lid=LSTMOBFVQJ5RMHGCWHFQV9OOD&marketplace=FLIPKART&srno=s_1_1&otracker=search&otracker1=search&fm=SEARCH&iid=2d825ae3-9b2b-42c7-9808-d4fc2f5bb5d6.MOBFVQJ5RMHGCWHF.SEARCH&ppt=hp&ppn=homepage&ssid=uexmbf09wg0000001614442031147&qH=1036ba3c4ed2c021', 'https://www.flipkart.com/poco-c3-lime-green-32-gb/p/itmdbc41b273ff7c?pid=MOBFVQJ5RMHGCWHF&lid=LSTMOBFVQJ5RMHGCWHFQV9OOD&marketplace=FLIPKART&srno=s_1_1&otracker=search&otracker1=search&fm=SEARCH&iid=2d825ae3-9b2b-42c7-9808-d4fc2f5bb5d6.MOBFVQJ5RMHGCWHF.SEARCH&ppt=hp&ppn=homepage&ssid=uexmbf09wg0000001614442031147&qH=1036ba3c4ed2c021', 'https://www.flipkart.com/poco-c3-lime-green-32-gb/p/itmdbc41b273ff7c?pid=MOBFVQJ5RMHGCWHF&lid=LSTMOBFVQJ5RMHGCWHFQV9OOD&marketplace=FLIPKART&srno=s_1_1&otracker=search&otracker1=search&fm=SEARCH&iid=2d825ae3-9b2b-42c7-9808-d4fc2f5bb5d6.MOBFVQJ5RMHGCWHF.SEARCH&ppt=hp&ppn=homepage&ssid=uexmbf09wg0000001614442031147&qH=1036ba3c4ed2c021', 'https://www.flipkart.com/poco-c3-lime-green-32-gb/p/itmdbc41b273ff7c?pid=MOBFVQJ5RMHGCWHF&lid=LSTMOBFVQJ5RMHGCWHFQV9OOD&marketplace=FLIPKART&srno=s_1_1&otracker=search&otracker1=search&fm=SEARCH&iid=2d825ae3-9b2b-42c7-9808-d4fc2f5bb5d6.MOBFVQJ5RMHGCWHF.SEARCH&ppt=hp&ppn=homepage&ssid=uexmbf09wg0000001614442031147&qH=1036ba3c4ed2c021', 'https://www.flipkart.com/poco-c3-lime-green-32-gb/p/itmdbc41b273ff7c?pid=MOBFVQJ5RMHGCWHF&lid=LSTMOBFVQJ5RMHGCWHFQV9OOD&marketplace=FLIPKART&srno=s_1_1&otracker=search&otracker1=search&fm=SEARCH&iid=2d825ae3-9b2b-42c7-9808-d4fc2f5bb5d6.MOBFVQJ5RMHGCWHF.SEARCH&ppt=hp&ppn=homepage&ssid=uexmbf09wg0000001614442031147&qH=1036ba3c4ed2c021', 'https://www.flipkart.com/poco-c3-lime-green-32-gb/p/itmdbc41b273ff7c?pid=MOBFVQJ5RMHGCWHF&lid=LSTMOBFVQJ5RMHGCWHFQV9OOD&marketplace=FLIPKART&srno=s_1_1&otracker=search&otracker1=search&fm=SEARCH&iid=2d825ae3-9b2b-42c7-9808-d4fc2f5bb5d6.MOBFVQJ5RMHGCWHF.SEARCH&ppt=hp&ppn=homepage&ssid=uexmbf09wg0000001614442031147&qH=1036ba3c4ed2c021', 'https://www.flipkart.com/poco-c3-lime-green-32-gb/p/itmdbc41b273ff7c?pid=MOBFVQJ5RMHGCWHF&lid=LSTMOBFVQJ5RMHGCWHFQV9OOD&marketplace=FLIPKART&srno=s_1_1&otracker=search&otracker1=search&fm=SEARCH&iid=2d825ae3-9b2b-42c7-9808-d4fc2f5bb5d6.MOBFVQJ5RMHGCWHF.SEARCH&ppt=hp&ppn=homepage&ssid=uexmbf09wg0000001614442031147&qH=1036ba3c4ed2c021', 'https://www.flipkart.com/poco-c3-lime-green-32-gb/p/itmdbc41b273ff7c?pid=MOBFVQJ5RMHGCWHF&lid=LSTMOBFVQJ5RMHGCWHFQV9OOD&marketplace=FLIPKART&srno=s_1_1&otracker=search&otracker1=search&fm=SEARCH&iid=2d825ae3-9b2b-42c7-9808-d4fc2f5bb5d6.MOBFVQJ5RMHGCWHF.SEARCH&ppt=hp&ppn=homepage&ssid=uexmbf09wg0000001614442031147&qH=1036ba3c4ed2c021', 'https://www.flipkart.com/poco-c3-lime-green-32-gb/p/itmdbc41b273ff7c?pid=MOBFVQJ5RMHGCWHF&lid=LSTMOBFVQJ5RMHGCWHFQV9OOD&marketplace=FLIPKART&srno=s_1_1&otracker=search&otracker1=search&fm=SEARCH&iid=2d825ae3-9b2b-42c7-9808-d4fc2f5bb5d6.MOBFVQJ5RMHGCWHF.SEARCH&ppt=hp&ppn=homepage&ssid=uexmbf09wg0000001614442031147&qH=1036ba3c4ed2c021', 'https://www.flipkart.com/poco-c3-lime-green-32-gb/p/itmdbc41b273ff7c?pid=MOBFVQJ5RMHGCWHF&lid=LSTMOBFVQJ5RMHGCWHFQV9OOD&marketplace=FLIPKART&srno=s_1_1&otracker=search&otracker1=search&fm=SEARCH&iid=2d825ae3-9b2b-42c7-9808-d4fc2f5bb5d6.MOBFVQJ5RMHGCWHF.SEARCH&ppt=hp&ppn=homepage&ssid=uexmbf09wg0000001614442031147&qH=1036ba3c4ed2c021', 'https://www.flipkart.com/poco-c3-lime-green-32-gb/p/itmdbc41b273ff7c?pid=MOBFVQJ5RMHGCWHF&lid=LSTMOBFVQJ5RMHGCWHFQV9OOD&marketplace=FLIPKART&srno=s_1_1&otracker=search&otracker1=search&fm=SEARCH&iid=2d825ae3-9b2b-42c7-9808-d4fc2f5bb5d6.MOBFVQJ5RMHGCWHF.SEARCH&ppt=hp&ppn=homepage&ssid=uexmbf09wg0000001614442031147&qH=1036ba3c4ed2c021', 'https://www.flipkart.com/poco-c3-lime-green-32-gb/p/itmdbc41b273ff7c?pid=MOBFVQJ5RMHGCWHF&lid=LSTMOBFVQJ5RMHGCWHFQV9OOD&marketplace=FLIPKART&srno=s_1_1&otracker=search&otracker1=search&fm=SEARCH&iid=2d825ae3-9b2b-42c7-9808-d4fc2f5bb5d6.MOBFVQJ5RMHGCWHF.SEARCH&ppt=hp&ppn=homepage&ssid=uexmbf09wg0000001614442031147&qH=1036ba3c4ed2c021', 'https://www.flipkart.com/poco-c3-lime-green-32-gb/p/itmdbc41b273ff7c?pid=MOBFVQJ5RMHGCWHF&lid=LSTMOBFVQJ5RMHGCWHFQV9OOD&marketplace=FLIPKART&srno=s_1_1&otracker=search&otracker1=search&fm=SEARCH&iid=2d825ae3-9b2b-42c7-9808-d4fc2f5bb5d6.MOBFVQJ5RMHGCWHF.SEARCH&ppt=hp&ppn=homepage&ssid=uexmbf09wg0000001614442031147&qH=1036ba3c4ed2c021', 'https://www.flipkart.com/poco-c3-lime-green-32-gb/p/itmdbc41b273ff7c?pid=MOBFVQJ5RMHGCWHF&lid=LSTMOBFVQJ5RMHGCWHFQV9OOD&marketplace=FLIPKART&srno=s_1_1&otracker=search&otracker1=search&fm=SEARCH&iid=2d825ae3-9b2b-42c7-9808-d4fc2f5bb5d6.MOBFVQJ5RMHGCWHF.SEARCH&ppt=hp&ppn=homepage&ssid=uexmbf09wg0000001614442031147&qH=1036ba3c4ed2c021', 'https://www.flipkart.com/poco-c3-lime-green-32-gb/p/itmdbc41b273ff7c?pid=MOBFVQJ5RMHGCWHF&lid=LSTMOBFVQJ5RMHGCWHFQV9OOD&marketplace=FLIPKART&srno=s_1_1&otracker=search&otracker1=search&fm=SEARCH&iid=2d825ae3-9b2b-42c7-9808-d4fc2f5bb5d6.MOBFVQJ5RMHGCWHF.SEARCH&ppt=hp&ppn=homepage&ssid=uexmbf09wg0000001614442031147&qH=1036ba3c4ed2c021', 'https://www.flipkart.com/poco-c3-lime-green-32-gb/p/itmdbc41b273ff7c?pid=MOBFVQJ5RMHGCWHF&lid=LSTMOBFVQJ5RMHGCWHFQV9OOD&marketplace=FLIPKART&srno=s_1_1&otracker=search&otracker1=search&fm=SEARCH&iid=2d825ae3-9b2b-42c7-9808-d4fc2f5bb5d6.MOBFVQJ5RMHGCWHF.SEARCH&ppt=hp&ppn=homepage&ssid=uexmbf09wg0000001614442031147&qH=1036ba3c4ed2c021', 'https://www.flipkart.com/poco-c3-lime-green-32-gb/p/itmdbc41b273ff7c?pid=MOBFVQJ5RMHGCWHF&lid=LSTMOBFVQJ5RMHGCWHFQV9OOD&marketplace=FLIPKART&srno=s_1_1&otracker=search&otracker1=search&fm=SEARCH&iid=2d825ae3-9b2b-42c7-9808-d4fc2f5bb5d6.MOBFVQJ5RMHGCWHF.SEARCH&ppt=hp&ppn=homepage&ssid=uexmbf09wg0000001614442031147&qH=1036ba3c4ed2c021', 'https://www.flipkart.com/poco-c3-lime-green-32-gb/p/itmdbc41b273ff7c?pid=MOBFVQJ5RMHGCWHF&lid=LSTMOBFVQJ5RMHGCWHFQV9OOD&marketplace=FLIPKART&srno=s_1_1&otracker=search&otracker1=search&fm=SEARCH&iid=2d825ae3-9b2b-42c7-9808-d4fc2f5bb5d6.MOBFVQJ5RMHGCWHF.SEARCH&ppt=hp&ppn=homepage&ssid=uexmbf09wg0000001614442031147&qH=1036ba3c4ed2c021', 'https://www.flipkart.com/poco-c3-lime-green-32-gb/p/itmdbc41b273ff7c?pid=MOBFVQJ5RMHGCWHF&lid=LSTMOBFVQJ5RMHGCWHFQV9OOD&marketplace=FLIPKART&srno=s_1_1&otracker=search&otracker1=search&fm=SEARCH&iid=2d825ae3-9b2b-42c7-9808-d4fc2f5bb5d6.MOBFVQJ5RMHGCWHF.SEARCH&ppt=hp&ppn=homepage&ssid=uexmbf09wg0000001614442031147&qH=1036ba3c4ed2c021']\n"
     ]
    }
   ],
   "source": [
    "a=range(0,23)\n",
    "\n",
    "for i in a:\n",
    "    Product_URL.append(driver.find_element_by_xpath(\"//a[@class='_1fQZEK']\").get_attribute('href'))\n",
    "print(Product_URL)"
   ]
  },
  {
   "cell_type": "code",
   "execution_count": 46,
   "metadata": {},
   "outputs": [],
   "source": [
    "import pandas as pd\n",
    "flipkart_phones=pd.DataFrame()\n",
    "flipkart_phones['Brand_name']=Brand_name[0:9]\n",
    "flipkart_phones['Smartphone_name_colour_RAM']=Smartphone_name_colour_RAM[0:9]\n",
    "flipkart_phones['RAM']=RAM[0:9]\n",
    "flipkart_phones['ROM']=ROM[0:9]\n",
    "flipkart_phones['Display_Size']=Display_Size[0:9]\n",
    "flipkart_phones['Display_resolution']=Display_resolution[0:9]\n",
    "flipkart_phones['Primary_Camera']=Primary_Camera[0:9]\n",
    "flipkart_phones['Secondary_Camera']=Secondary_Camera[0:9]\n",
    "flipkart_phones['Processor_Cores']=Processor_Cores[0:9]\n",
    "flipkart_phones['Battery_Capacity']=Battery_Capacity[0:9]\n",
    "flipkart_phones['Price']=Price[0:9]\n",
    "flipkart_phones['Product_URL']=Product_URL[0:9]"
   ]
  },
  {
   "cell_type": "code",
   "execution_count": 47,
   "metadata": {},
   "outputs": [
    {
     "data": {
      "text/html": [
       "<div>\n",
       "<style scoped>\n",
       "    .dataframe tbody tr th:only-of-type {\n",
       "        vertical-align: middle;\n",
       "    }\n",
       "\n",
       "    .dataframe tbody tr th {\n",
       "        vertical-align: top;\n",
       "    }\n",
       "\n",
       "    .dataframe thead th {\n",
       "        text-align: right;\n",
       "    }\n",
       "</style>\n",
       "<table border=\"1\" class=\"dataframe\">\n",
       "  <thead>\n",
       "    <tr style=\"text-align: right;\">\n",
       "      <th></th>\n",
       "      <th>Brand_name</th>\n",
       "      <th>Smartphone_name_colour_RAM</th>\n",
       "      <th>RAM</th>\n",
       "      <th>ROM</th>\n",
       "      <th>Display_Size</th>\n",
       "      <th>Display_resolution</th>\n",
       "      <th>Primary_Camera</th>\n",
       "      <th>Secondary_Camera</th>\n",
       "      <th>Processor_Cores</th>\n",
       "      <th>Battery_Capacity</th>\n",
       "      <th>Price</th>\n",
       "      <th>Product_URL</th>\n",
       "    </tr>\n",
       "  </thead>\n",
       "  <tbody>\n",
       "    <tr>\n",
       "      <th>0</th>\n",
       "      <td>POCO</td>\n",
       "      <td>POCO C3 (Lime Green, 32 GB)</td>\n",
       "      <td>3 GB RAM</td>\n",
       "      <td>(6.53 inc</td>\n",
       "      <td>16.59 cm</td>\n",
       "      <td>HD+ Displa</td>\n",
       "      <td>13MP + 2MP + 2MP |</td>\n",
       "      <td>Front Camer</td>\n",
       "      <td>Mediatek Helio G35 Processor</td>\n",
       "      <td>5000 mAh Li-ion Polymer Battery</td>\n",
       "      <td>₹6,999</td>\n",
       "      <td>https://www.flipkart.com/poco-c3-lime-green-32...</td>\n",
       "    </tr>\n",
       "    <tr>\n",
       "      <th>1</th>\n",
       "      <td>Realm</td>\n",
       "      <td>Realme C11 (Rich Grey, 32 GB)</td>\n",
       "      <td>2 GB RAM</td>\n",
       "      <td>(6.5 inch</td>\n",
       "      <td>16.51 cm</td>\n",
       "      <td>HD+ Displa</td>\n",
       "      <td>13MP + 2MP | 5MP F</td>\n",
       "      <td>Camera</td>\n",
       "      <td>Mediatek Helio G35 Processor</td>\n",
       "      <td>5000 mAh Battery</td>\n",
       "      <td>₹6,999</td>\n",
       "      <td>https://www.flipkart.com/poco-c3-lime-green-32...</td>\n",
       "    </tr>\n",
       "    <tr>\n",
       "      <th>2</th>\n",
       "      <td>Realm</td>\n",
       "      <td>Realme C11 (Rich Green, 32 GB)</td>\n",
       "      <td>2 GB RAM</td>\n",
       "      <td>(6.5 inch</td>\n",
       "      <td>16.51 cm</td>\n",
       "      <td>HD+ Displa</td>\n",
       "      <td>13MP + 2MP | 5MP F</td>\n",
       "      <td>Camera</td>\n",
       "      <td>Mediatek Helio G35 Processor</td>\n",
       "      <td>5000 mAh Battery</td>\n",
       "      <td>₹6,999</td>\n",
       "      <td>https://www.flipkart.com/poco-c3-lime-green-32...</td>\n",
       "    </tr>\n",
       "    <tr>\n",
       "      <th>3</th>\n",
       "      <td>Samsu</td>\n",
       "      <td>Samsung Galaxy F62 (Laser Grey, 128 GB)</td>\n",
       "      <td>6 GB RAM</td>\n",
       "      <td>(6.7 inch</td>\n",
       "      <td>17.02 cm</td>\n",
       "      <td>HD+ Displa</td>\n",
       "      <td>64MP + 12MP + 5MP</td>\n",
       "      <td>P | 32MP Fro</td>\n",
       "      <td>Exynos 9825 Processor</td>\n",
       "      <td>7000 mAh Lithium-ion Battery</td>\n",
       "      <td>₹23,999</td>\n",
       "      <td>https://www.flipkart.com/poco-c3-lime-green-32...</td>\n",
       "    </tr>\n",
       "    <tr>\n",
       "      <th>4</th>\n",
       "      <td>POCO</td>\n",
       "      <td>POCO C3 (Arctic Blue, 32 GB)</td>\n",
       "      <td>3 GB RAM</td>\n",
       "      <td>(6.53 inc</td>\n",
       "      <td>16.59 cm</td>\n",
       "      <td>HD+ Displa</td>\n",
       "      <td>13MP + 2MP + 2MP |</td>\n",
       "      <td>Front Camer</td>\n",
       "      <td>Mediatek Helio G35 Processor</td>\n",
       "      <td>5000 mAh Li-ion Polymer Battery</td>\n",
       "      <td>₹6,999</td>\n",
       "      <td>https://www.flipkart.com/poco-c3-lime-green-32...</td>\n",
       "    </tr>\n",
       "    <tr>\n",
       "      <th>5</th>\n",
       "      <td>POCO</td>\n",
       "      <td>POCO C3 (Matte Black, 32 GB)</td>\n",
       "      <td>3 GB RAM</td>\n",
       "      <td>(6.53 inc</td>\n",
       "      <td>16.59 cm</td>\n",
       "      <td>HD+ Displa</td>\n",
       "      <td>13MP + 2MP + 2MP |</td>\n",
       "      <td>Front Camer</td>\n",
       "      <td>Mediatek Helio G35 Processor</td>\n",
       "      <td>5000 mAh Li-ion Polymer Battery</td>\n",
       "      <td>₹6,999</td>\n",
       "      <td>https://www.flipkart.com/poco-c3-lime-green-32...</td>\n",
       "    </tr>\n",
       "    <tr>\n",
       "      <th>6</th>\n",
       "      <td>POCO</td>\n",
       "      <td>POCO M3 (Cool Blue, 64 GB)</td>\n",
       "      <td>6 GB RAM</td>\n",
       "      <td>(6.53 inc</td>\n",
       "      <td>16.59 cm</td>\n",
       "      <td>HD+ Displa</td>\n",
       "      <td>48MP + 2MP + 2MP |</td>\n",
       "      <td>Front Camer</td>\n",
       "      <td>Qualcomm Snapdragon 662 Processor</td>\n",
       "      <td>6000 mAh Lithium-ion Polymer Battery</td>\n",
       "      <td>₹10,999</td>\n",
       "      <td>https://www.flipkart.com/poco-c3-lime-green-32...</td>\n",
       "    </tr>\n",
       "    <tr>\n",
       "      <th>7</th>\n",
       "      <td>POCO</td>\n",
       "      <td>POCO C3 (Lime Green, 64 GB)</td>\n",
       "      <td>4 GB RAM</td>\n",
       "      <td>(6.53 inc</td>\n",
       "      <td>16.59 cm</td>\n",
       "      <td>HD+ Displa</td>\n",
       "      <td>13MP + 2MP + 2MP |</td>\n",
       "      <td>Front Camer</td>\n",
       "      <td>Mediatek Helio G35 Processor</td>\n",
       "      <td>5000 mAh Li-ion Polymer Battery</td>\n",
       "      <td>₹7,999</td>\n",
       "      <td>https://www.flipkart.com/poco-c3-lime-green-32...</td>\n",
       "    </tr>\n",
       "    <tr>\n",
       "      <th>8</th>\n",
       "      <td>Redmi</td>\n",
       "      <td>Redmi 9i (Sea Blue, 64 GB)</td>\n",
       "      <td>4 GB RAM</td>\n",
       "      <td>(6.53 inc</td>\n",
       "      <td>16.59 cm</td>\n",
       "      <td>HD+ Displa</td>\n",
       "      <td>13MP Rear Camera |</td>\n",
       "      <td>Front Camer</td>\n",
       "      <td>MediaTek Helio G25 Processor</td>\n",
       "      <td>5000 mAh Lithium Polymer Battery</td>\n",
       "      <td>₹7,999</td>\n",
       "      <td>https://www.flipkart.com/poco-c3-lime-green-32...</td>\n",
       "    </tr>\n",
       "  </tbody>\n",
       "</table>\n",
       "</div>"
      ],
      "text/plain": [
       "  Brand_name               Smartphone_name_colour_RAM       RAM         ROM  \\\n",
       "0      POCO               POCO C3 (Lime Green, 32 GB)  3 GB RAM   (6.53 inc   \n",
       "1      Realm            Realme C11 (Rich Grey, 32 GB)  2 GB RAM   (6.5 inch   \n",
       "2      Realm           Realme C11 (Rich Green, 32 GB)  2 GB RAM   (6.5 inch   \n",
       "3      Samsu  Samsung Galaxy F62 (Laser Grey, 128 GB)  6 GB RAM   (6.7 inch   \n",
       "4      POCO              POCO C3 (Arctic Blue, 32 GB)  3 GB RAM   (6.53 inc   \n",
       "5      POCO              POCO C3 (Matte Black, 32 GB)  3 GB RAM   (6.53 inc   \n",
       "6      POCO                POCO M3 (Cool Blue, 64 GB)  6 GB RAM   (6.53 inc   \n",
       "7      POCO               POCO C3 (Lime Green, 64 GB)  4 GB RAM   (6.53 inc   \n",
       "8      Redmi               Redmi 9i (Sea Blue, 64 GB)  4 GB RAM   (6.53 inc   \n",
       "\n",
       "  Display_Size Display_resolution      Primary_Camera Secondary_Camera  \\\n",
       "0     16.59 cm         HD+ Displa  13MP + 2MP + 2MP |      Front Camer   \n",
       "1     16.51 cm         HD+ Displa  13MP + 2MP | 5MP F           Camera   \n",
       "2     16.51 cm         HD+ Displa  13MP + 2MP | 5MP F           Camera   \n",
       "3     17.02 cm         HD+ Displa  64MP + 12MP + 5MP      P | 32MP Fro   \n",
       "4     16.59 cm         HD+ Displa  13MP + 2MP + 2MP |      Front Camer   \n",
       "5     16.59 cm         HD+ Displa  13MP + 2MP + 2MP |      Front Camer   \n",
       "6     16.59 cm         HD+ Displa  48MP + 2MP + 2MP |      Front Camer   \n",
       "7     16.59 cm         HD+ Displa  13MP + 2MP + 2MP |      Front Camer   \n",
       "8     16.59 cm         HD+ Displa  13MP Rear Camera |      Front Camer   \n",
       "\n",
       "                     Processor_Cores                      Battery_Capacity  \\\n",
       "0       Mediatek Helio G35 Processor       5000 mAh Li-ion Polymer Battery   \n",
       "1       Mediatek Helio G35 Processor                      5000 mAh Battery   \n",
       "2       Mediatek Helio G35 Processor                      5000 mAh Battery   \n",
       "3              Exynos 9825 Processor          7000 mAh Lithium-ion Battery   \n",
       "4       Mediatek Helio G35 Processor       5000 mAh Li-ion Polymer Battery   \n",
       "5       Mediatek Helio G35 Processor       5000 mAh Li-ion Polymer Battery   \n",
       "6  Qualcomm Snapdragon 662 Processor  6000 mAh Lithium-ion Polymer Battery   \n",
       "7       Mediatek Helio G35 Processor       5000 mAh Li-ion Polymer Battery   \n",
       "8       MediaTek Helio G25 Processor      5000 mAh Lithium Polymer Battery   \n",
       "\n",
       "     Price                                        Product_URL  \n",
       "0   ₹6,999  https://www.flipkart.com/poco-c3-lime-green-32...  \n",
       "1   ₹6,999  https://www.flipkart.com/poco-c3-lime-green-32...  \n",
       "2   ₹6,999  https://www.flipkart.com/poco-c3-lime-green-32...  \n",
       "3  ₹23,999  https://www.flipkart.com/poco-c3-lime-green-32...  \n",
       "4   ₹6,999  https://www.flipkart.com/poco-c3-lime-green-32...  \n",
       "5   ₹6,999  https://www.flipkart.com/poco-c3-lime-green-32...  \n",
       "6  ₹10,999  https://www.flipkart.com/poco-c3-lime-green-32...  \n",
       "7   ₹7,999  https://www.flipkart.com/poco-c3-lime-green-32...  \n",
       "8   ₹7,999  https://www.flipkart.com/poco-c3-lime-green-32...  "
      ]
     },
     "execution_count": 47,
     "metadata": {},
     "output_type": "execute_result"
    }
   ],
   "source": [
    "flipkart_phones"
   ]
  },
  {
   "cell_type": "code",
   "execution_count": null,
   "metadata": {},
   "outputs": [],
   "source": []
  }
 ],
 "metadata": {
  "kernelspec": {
   "display_name": "Python 3",
   "language": "python",
   "name": "python3"
  },
  "language_info": {
   "codemirror_mode": {
    "name": "ipython",
    "version": 3
   },
   "file_extension": ".py",
   "mimetype": "text/x-python",
   "name": "python",
   "nbconvert_exporter": "python",
   "pygments_lexer": "ipython3",
   "version": "3.8.3"
  }
 },
 "nbformat": 4,
 "nbformat_minor": 4
}
